{
 "cells": [
  {
   "cell_type": "markdown",
   "metadata": {},
   "source": [
    "# Car Sales Dataset"
   ]
  },
  {
   "cell_type": "markdown",
   "metadata": {},
   "source": [
    "## Background & Context\n",
    "\n",
    "There is always a huge demand for used cars. As sales of new cars have slowed down in the recent past, the pre-owned car market has continued to grow over the past years and is larger than the new car market now. Cars4U is a growing tech start-up in North America that aims to find a good strategy in this market.\n",
    "\n",
    "In 2018-19, while new car sales were recorded at 3.6 million units, around 4 million second-hand cars were bought and sold. There is a slowdown in new car sales and that could mean that the demand is shifting towards the pre-owned market. In fact, some car sellers replace their old cars with pre-owned cars instead of buying new ones. Keeping this in mind, the pricing scheme of these used cars becomes important in order to grow in the market.\n",
    "\n",
    "As a senior data scientist at Cars4U, you have to come up with a pricing model that can effectively predict the price of used cars and can help the business in devising profitable strategies using differential pricing. For example, if the business knows the market price, it will never sell anything below it.\n",
    "\n",
    "For now your objective is:\n",
    "\n",
    "### **The objectives:**\n",
    "* Explore basic stats and visualize the dataset.\n",
    "* Generate a set of insights and recommendations that will help the business.\n",
    "\n",
    "### **The key questions:**\n",
    "* Which factors would affect the price of used cars?\n",
    "\n",
    "\n",
    "### **Data Dictionary**\n",
    "\n",
    "**Manufacturer** : Name of the car which includes Brand name\n",
    "\n",
    "**Model** : Name of the car which includes Model name\n",
    "\n",
    "**Type** : Size of the car whether 'Small', 'Midsize', 'Compact', 'Large', 'Sporty', 'Van'. 6 unique types.\n",
    "\n",
    "**Year** : Manufacturing year of the car\n",
    "\n",
    "**MPG.City** : Total miles the car runs per gallon in city.\n",
    "\n",
    "**MPG.Highway** : Total miles the car runs per gallon on highway.\n",
    "\n",
    "**Transmission** : The type of transmission used by the car. (Automatic / Manual)\n",
    "\n",
    "**Drive** : Type of drive (All Wheel Drive vs Front wheel drive).\n",
    "\n",
    "**Cylinders** : Number of cylinders in the engine.\n",
    "\n",
    "**Transmission** : Automatic or Manual.\n",
    "\n",
    "**Passengers** : Number of seats in the car.\n",
    "\n",
    "**Price** : The price of the used car in x 1000 USD (**Target Variable**)"
   ]
  },
  {
   "cell_type": "code",
   "execution_count": 1,
   "metadata": {},
   "outputs": [],
   "source": [
    "# import necessary libraries\n",
    "import pandas as pd"
   ]
  },
  {
   "cell_type": "code",
   "execution_count": 2,
   "metadata": {},
   "outputs": [],
   "source": [
    "# Read the car_sales.csv data and store it as a dataframe\n",
    "df = pd.read_csv(\"car_sales.csv\")"
   ]
  },
  {
   "cell_type": "code",
   "execution_count": 3,
   "metadata": {},
   "outputs": [
    {
     "data": {
      "text/html": [
       "<div>\n",
       "<style scoped>\n",
       "    .dataframe tbody tr th:only-of-type {\n",
       "        vertical-align: middle;\n",
       "    }\n",
       "\n",
       "    .dataframe tbody tr th {\n",
       "        vertical-align: top;\n",
       "    }\n",
       "\n",
       "    .dataframe thead th {\n",
       "        text-align: right;\n",
       "    }\n",
       "</style>\n",
       "<table border=\"1\" class=\"dataframe\">\n",
       "  <thead>\n",
       "    <tr style=\"text-align: right;\">\n",
       "      <th></th>\n",
       "      <th>Manufacturer</th>\n",
       "      <th>Model</th>\n",
       "      <th>Type</th>\n",
       "      <th>MPG_City</th>\n",
       "      <th>MPG Highway</th>\n",
       "      <th>Drive</th>\n",
       "      <th>Cylinders</th>\n",
       "      <th>Transmission</th>\n",
       "      <th>Passengers</th>\n",
       "      <th>Price</th>\n",
       "    </tr>\n",
       "  </thead>\n",
       "  <tbody>\n",
       "    <tr>\n",
       "      <th>0</th>\n",
       "      <td>Acura</td>\n",
       "      <td>Integra</td>\n",
       "      <td>Small</td>\n",
       "      <td>25</td>\n",
       "      <td>31</td>\n",
       "      <td>Front</td>\n",
       "      <td>4</td>\n",
       "      <td>Manual</td>\n",
       "      <td>5</td>\n",
       "      <td>15.9</td>\n",
       "    </tr>\n",
       "    <tr>\n",
       "      <th>1</th>\n",
       "      <td>Acura</td>\n",
       "      <td>Legend</td>\n",
       "      <td>Midsize</td>\n",
       "      <td>18</td>\n",
       "      <td>25</td>\n",
       "      <td>Front</td>\n",
       "      <td>6</td>\n",
       "      <td>Manual</td>\n",
       "      <td>5</td>\n",
       "      <td>33.9</td>\n",
       "    </tr>\n",
       "    <tr>\n",
       "      <th>2</th>\n",
       "      <td>Audi</td>\n",
       "      <td>90</td>\n",
       "      <td>Compact</td>\n",
       "      <td>20</td>\n",
       "      <td>26</td>\n",
       "      <td>Front</td>\n",
       "      <td>6</td>\n",
       "      <td>Manual</td>\n",
       "      <td>5</td>\n",
       "      <td>29.1</td>\n",
       "    </tr>\n",
       "    <tr>\n",
       "      <th>3</th>\n",
       "      <td>Audi</td>\n",
       "      <td>100</td>\n",
       "      <td>Midsize</td>\n",
       "      <td>19</td>\n",
       "      <td>26</td>\n",
       "      <td>Front</td>\n",
       "      <td>6</td>\n",
       "      <td>Manual</td>\n",
       "      <td>6</td>\n",
       "      <td>37.7</td>\n",
       "    </tr>\n",
       "    <tr>\n",
       "      <th>4</th>\n",
       "      <td>BMW</td>\n",
       "      <td>535i</td>\n",
       "      <td>Midsize</td>\n",
       "      <td>22</td>\n",
       "      <td>30</td>\n",
       "      <td>AWD</td>\n",
       "      <td>4</td>\n",
       "      <td>Manual</td>\n",
       "      <td>4</td>\n",
       "      <td>30.0</td>\n",
       "    </tr>\n",
       "    <tr>\n",
       "      <th>5</th>\n",
       "      <td>Buick</td>\n",
       "      <td>Century</td>\n",
       "      <td>Midsize</td>\n",
       "      <td>22</td>\n",
       "      <td>31</td>\n",
       "      <td>Front</td>\n",
       "      <td>4</td>\n",
       "      <td>Automatic</td>\n",
       "      <td>6</td>\n",
       "      <td>15.7</td>\n",
       "    </tr>\n",
       "    <tr>\n",
       "      <th>6</th>\n",
       "      <td>Buick</td>\n",
       "      <td>LeSabre</td>\n",
       "      <td>Large</td>\n",
       "      <td>19</td>\n",
       "      <td>28</td>\n",
       "      <td>Front</td>\n",
       "      <td>6</td>\n",
       "      <td>Automatic</td>\n",
       "      <td>6</td>\n",
       "      <td>20.8</td>\n",
       "    </tr>\n",
       "    <tr>\n",
       "      <th>7</th>\n",
       "      <td>Buick</td>\n",
       "      <td>Roadmaster</td>\n",
       "      <td>Large</td>\n",
       "      <td>16</td>\n",
       "      <td>25</td>\n",
       "      <td>AWD</td>\n",
       "      <td>6</td>\n",
       "      <td>Automatic</td>\n",
       "      <td>6</td>\n",
       "      <td>23.7</td>\n",
       "    </tr>\n",
       "    <tr>\n",
       "      <th>8</th>\n",
       "      <td>Buick</td>\n",
       "      <td>Riviera</td>\n",
       "      <td>Midsize</td>\n",
       "      <td>19</td>\n",
       "      <td>27</td>\n",
       "      <td>Front</td>\n",
       "      <td>6</td>\n",
       "      <td>Automatic</td>\n",
       "      <td>5</td>\n",
       "      <td>26.3</td>\n",
       "    </tr>\n",
       "    <tr>\n",
       "      <th>9</th>\n",
       "      <td>Cadillac</td>\n",
       "      <td>DeVille</td>\n",
       "      <td>Large</td>\n",
       "      <td>16</td>\n",
       "      <td>25</td>\n",
       "      <td>Front</td>\n",
       "      <td>8</td>\n",
       "      <td>Automatic</td>\n",
       "      <td>6</td>\n",
       "      <td>34.7</td>\n",
       "    </tr>\n",
       "  </tbody>\n",
       "</table>\n",
       "</div>"
      ],
      "text/plain": [
       "  Manufacturer       Model     Type  MPG_City  MPG Highway  Drive  Cylinders  \\\n",
       "0        Acura     Integra    Small        25           31  Front          4   \n",
       "1        Acura      Legend  Midsize        18           25  Front          6   \n",
       "2         Audi          90  Compact        20           26  Front          6   \n",
       "3         Audi         100  Midsize        19           26  Front          6   \n",
       "4          BMW        535i  Midsize        22           30    AWD          4   \n",
       "5        Buick     Century  Midsize        22           31  Front          4   \n",
       "6        Buick     LeSabre    Large        19           28  Front          6   \n",
       "7        Buick  Roadmaster    Large        16           25    AWD          6   \n",
       "8        Buick     Riviera  Midsize        19           27  Front          6   \n",
       "9     Cadillac     DeVille    Large        16           25  Front          8   \n",
       "\n",
       "  Transmission  Passengers  Price  \n",
       "0       Manual           5   15.9  \n",
       "1       Manual           5   33.9  \n",
       "2       Manual           5   29.1  \n",
       "3       Manual           6   37.7  \n",
       "4       Manual           4   30.0  \n",
       "5    Automatic           6   15.7  \n",
       "6    Automatic           6   20.8  \n",
       "7    Automatic           6   23.7  \n",
       "8    Automatic           5   26.3  \n",
       "9    Automatic           6   34.7  "
      ]
     },
     "execution_count": 3,
     "metadata": {},
     "output_type": "execute_result"
    }
   ],
   "source": [
    "# View the top 10 rows of the dataframe\n",
    "df.head(10)"
   ]
  },
  {
   "cell_type": "code",
   "execution_count": 11,
   "metadata": {},
   "outputs": [
    {
     "name": "stdout",
     "output_type": "stream",
     "text": [
      "<class 'pandas.core.frame.DataFrame'>\n",
      "RangeIndex: 93 entries, 0 to 92\n",
      "Data columns (total 10 columns):\n",
      " #   Column        Non-Null Count  Dtype  \n",
      "---  ------        --------------  -----  \n",
      " 0   Manufacturer  93 non-null     object \n",
      " 1   Model         93 non-null     object \n",
      " 2   Type          93 non-null     object \n",
      " 3   MPG_City      93 non-null     int64  \n",
      " 4   MPG Highway   93 non-null     int64  \n",
      " 5   Drive         93 non-null     object \n",
      " 6   Cylinders     93 non-null     int64  \n",
      " 7   Transmission  93 non-null     object \n",
      " 8   Passengers    93 non-null     int64  \n",
      " 9   Price         93 non-null     float64\n",
      "dtypes: float64(1), int64(4), object(5)\n",
      "memory usage: 7.4+ KB\n"
     ]
    }
   ],
   "source": [
    "# get basic info\n",
    "df.info()"
   ]
  },
  {
   "cell_type": "code",
   "execution_count": 7,
   "metadata": {},
   "outputs": [
    {
     "data": {
      "text/plain": [
       "0     25\n",
       "1     18\n",
       "2     20\n",
       "3     19\n",
       "4     22\n",
       "      ..\n",
       "88    17\n",
       "89    21\n",
       "90    18\n",
       "91    21\n",
       "92    20\n",
       "Name: MPG_City, Length: 93, dtype: int64"
      ]
     },
     "execution_count": 7,
     "metadata": {},
     "output_type": "execute_result"
    }
   ],
   "source": [
    "# difference between df.MPG Highway and df['MPG Highway']\n",
    "df.MPG_City # this form is not possible for column names with spaces\n",
    "\n",
    "# df[\"MPG_City\"]"
   ]
  },
  {
   "cell_type": "code",
   "execution_count": 8,
   "metadata": {},
   "outputs": [
    {
     "data": {
      "text/html": [
       "<div>\n",
       "<style scoped>\n",
       "    .dataframe tbody tr th:only-of-type {\n",
       "        vertical-align: middle;\n",
       "    }\n",
       "\n",
       "    .dataframe tbody tr th {\n",
       "        vertical-align: top;\n",
       "    }\n",
       "\n",
       "    .dataframe thead th {\n",
       "        text-align: right;\n",
       "    }\n",
       "</style>\n",
       "<table border=\"1\" class=\"dataframe\">\n",
       "  <thead>\n",
       "    <tr style=\"text-align: right;\">\n",
       "      <th></th>\n",
       "      <th>MPG_City</th>\n",
       "      <th>MPG Highway</th>\n",
       "      <th>Cylinders</th>\n",
       "      <th>Passengers</th>\n",
       "      <th>Price</th>\n",
       "    </tr>\n",
       "  </thead>\n",
       "  <tbody>\n",
       "    <tr>\n",
       "      <th>count</th>\n",
       "      <td>93.000000</td>\n",
       "      <td>93.000000</td>\n",
       "      <td>93.000000</td>\n",
       "      <td>93.000000</td>\n",
       "      <td>93.000000</td>\n",
       "    </tr>\n",
       "    <tr>\n",
       "      <th>mean</th>\n",
       "      <td>22.365591</td>\n",
       "      <td>29.086022</td>\n",
       "      <td>4.967742</td>\n",
       "      <td>5.086022</td>\n",
       "      <td>19.509677</td>\n",
       "    </tr>\n",
       "    <tr>\n",
       "      <th>std</th>\n",
       "      <td>5.619812</td>\n",
       "      <td>5.331726</td>\n",
       "      <td>1.297586</td>\n",
       "      <td>1.038979</td>\n",
       "      <td>9.659430</td>\n",
       "    </tr>\n",
       "    <tr>\n",
       "      <th>min</th>\n",
       "      <td>15.000000</td>\n",
       "      <td>20.000000</td>\n",
       "      <td>3.000000</td>\n",
       "      <td>2.000000</td>\n",
       "      <td>7.400000</td>\n",
       "    </tr>\n",
       "    <tr>\n",
       "      <th>25%</th>\n",
       "      <td>18.000000</td>\n",
       "      <td>26.000000</td>\n",
       "      <td>4.000000</td>\n",
       "      <td>4.000000</td>\n",
       "      <td>12.200000</td>\n",
       "    </tr>\n",
       "    <tr>\n",
       "      <th>50%</th>\n",
       "      <td>21.000000</td>\n",
       "      <td>28.000000</td>\n",
       "      <td>4.000000</td>\n",
       "      <td>5.000000</td>\n",
       "      <td>17.700000</td>\n",
       "    </tr>\n",
       "    <tr>\n",
       "      <th>75%</th>\n",
       "      <td>25.000000</td>\n",
       "      <td>31.000000</td>\n",
       "      <td>6.000000</td>\n",
       "      <td>6.000000</td>\n",
       "      <td>23.300000</td>\n",
       "    </tr>\n",
       "    <tr>\n",
       "      <th>max</th>\n",
       "      <td>46.000000</td>\n",
       "      <td>50.000000</td>\n",
       "      <td>8.000000</td>\n",
       "      <td>8.000000</td>\n",
       "      <td>61.900000</td>\n",
       "    </tr>\n",
       "  </tbody>\n",
       "</table>\n",
       "</div>"
      ],
      "text/plain": [
       "        MPG_City  MPG Highway  Cylinders  Passengers      Price\n",
       "count  93.000000    93.000000  93.000000   93.000000  93.000000\n",
       "mean   22.365591    29.086022   4.967742    5.086022  19.509677\n",
       "std     5.619812     5.331726   1.297586    1.038979   9.659430\n",
       "min    15.000000    20.000000   3.000000    2.000000   7.400000\n",
       "25%    18.000000    26.000000   4.000000    4.000000  12.200000\n",
       "50%    21.000000    28.000000   4.000000    5.000000  17.700000\n",
       "75%    25.000000    31.000000   6.000000    6.000000  23.300000\n",
       "max    46.000000    50.000000   8.000000    8.000000  61.900000"
      ]
     },
     "execution_count": 8,
     "metadata": {},
     "output_type": "execute_result"
    }
   ],
   "source": [
    "# get stats for both numerical and categorical (object) columns\n",
    "df.describe()"
   ]
  },
  {
   "cell_type": "code",
   "execution_count": 9,
   "metadata": {},
   "outputs": [
    {
     "data": {
      "text/html": [
       "<div>\n",
       "<style scoped>\n",
       "    .dataframe tbody tr th:only-of-type {\n",
       "        vertical-align: middle;\n",
       "    }\n",
       "\n",
       "    .dataframe tbody tr th {\n",
       "        vertical-align: top;\n",
       "    }\n",
       "\n",
       "    .dataframe thead th {\n",
       "        text-align: right;\n",
       "    }\n",
       "</style>\n",
       "<table border=\"1\" class=\"dataframe\">\n",
       "  <thead>\n",
       "    <tr style=\"text-align: right;\">\n",
       "      <th></th>\n",
       "      <th>Manufacturer</th>\n",
       "      <th>Model</th>\n",
       "      <th>Type</th>\n",
       "      <th>Drive</th>\n",
       "      <th>Transmission</th>\n",
       "    </tr>\n",
       "  </thead>\n",
       "  <tbody>\n",
       "    <tr>\n",
       "      <th>count</th>\n",
       "      <td>93</td>\n",
       "      <td>93</td>\n",
       "      <td>93</td>\n",
       "      <td>93</td>\n",
       "      <td>93</td>\n",
       "    </tr>\n",
       "    <tr>\n",
       "      <th>unique</th>\n",
       "      <td>32</td>\n",
       "      <td>93</td>\n",
       "      <td>6</td>\n",
       "      <td>2</td>\n",
       "      <td>2</td>\n",
       "    </tr>\n",
       "    <tr>\n",
       "      <th>top</th>\n",
       "      <td>Chevrolet</td>\n",
       "      <td>Integra</td>\n",
       "      <td>Midsize</td>\n",
       "      <td>Front</td>\n",
       "      <td>Manual</td>\n",
       "    </tr>\n",
       "    <tr>\n",
       "      <th>freq</th>\n",
       "      <td>8</td>\n",
       "      <td>1</td>\n",
       "      <td>22</td>\n",
       "      <td>67</td>\n",
       "      <td>61</td>\n",
       "    </tr>\n",
       "  </tbody>\n",
       "</table>\n",
       "</div>"
      ],
      "text/plain": [
       "       Manufacturer    Model     Type  Drive Transmission\n",
       "count            93       93       93     93           93\n",
       "unique           32       93        6      2            2\n",
       "top       Chevrolet  Integra  Midsize  Front       Manual\n",
       "freq              8        1       22     67           61"
      ]
     },
     "execution_count": 9,
     "metadata": {},
     "output_type": "execute_result"
    }
   ],
   "source": [
    "df.describe(include=\"object\")"
   ]
  },
  {
   "cell_type": "code",
   "execution_count": 19,
   "metadata": {},
   "outputs": [
    {
     "data": {
      "text/plain": [
       "array(['Small', 'Midsize', 'Compact', 'Large', 'Sporty', 'Van'],\n",
       "      dtype=object)"
      ]
     },
     "execution_count": 19,
     "metadata": {},
     "output_type": "execute_result"
    }
   ],
   "source": [
    "# Find the unique classes in the Type column\n",
    "df.Type.unique()"
   ]
  },
  {
   "cell_type": "code",
   "execution_count": 25,
   "metadata": {},
   "outputs": [
    {
     "data": {
      "text/plain": [
       "<AxesSubplot:ylabel='Frequency'>"
      ]
     },
     "execution_count": 25,
     "metadata": {},
     "output_type": "execute_result"
    },
    {
     "data": {
      "image/png": "[encoded data removed]",
      "text/plain": [
       "<Figure size 432x288 with 1 Axes>"
      ]
     },
     "metadata": {
      "needs_background": "light"
     },
     "output_type": "display_data"
    }
   ],
   "source": [
    "# Plot a histogram for Passengers features and identify the type of distribution \n",
    "df[\"Passengers\"].plot(kind=\"hist\")"
   ]
  },
  {
   "cell_type": "code",
   "execution_count": 29,
   "metadata": {},
   "outputs": [
    {
     "data": {
      "text/plain": [
       "dtype('int64')"
      ]
     },
     "execution_count": 29,
     "metadata": {},
     "output_type": "execute_result"
    }
   ],
   "source": [
    "# check the datatype of variable Cylinders\n",
    "df[\"Cylinders\"].dtype"
   ]
  },
  {
   "cell_type": "code",
   "execution_count": 36,
   "metadata": {},
   "outputs": [
    {
     "data": {
      "text/plain": [
       "19.509677419354837"
      ]
     },
     "execution_count": 36,
     "metadata": {},
     "output_type": "execute_result"
    }
   ],
   "source": [
    "# find the average price of the cars in this dataset\n",
    "df[\"Price\"].mean()"
   ]
  },
  {
   "cell_type": "code",
   "execution_count": 42,
   "metadata": {},
   "outputs": [
    {
     "data": {
      "text/plain": [
       "count    93.000000\n",
       "mean      5.086022\n",
       "std       1.038979\n",
       "min       2.000000\n",
       "25%       4.000000\n",
       "50%       5.000000\n",
       "75%       6.000000\n",
       "max       8.000000\n",
       "Name: Passengers, dtype: float64"
      ]
     },
     "execution_count": 42,
     "metadata": {},
     "output_type": "execute_result"
    }
   ],
   "source": [
    "# Get the five number summary of 'Passengers' variable\n",
    "df[\"Passengers\"].describe()"
   ]
  },
  {
   "cell_type": "code",
   "execution_count": 49,
   "metadata": {},
   "outputs": [
    {
     "data": {
      "text/plain": [
       "<AxesSubplot:>"
      ]
     },
     "execution_count": 49,
     "metadata": {},
     "output_type": "execute_result"
    },
    {
     "data": {
      "image/png": "[encoded data removed]",
      "text/plain": [
       "<Figure size 432x288 with 1 Axes>"
      ]
     },
     "metadata": {
      "needs_background": "light"
     },
     "output_type": "display_data"
    }
   ],
   "source": [
    "# Plot a box plot for Passengers variable\n",
    "df.boxplot(\"Passengers\", vert=False)"
   ]
  },
  {
   "cell_type": "markdown",
   "metadata": {},
   "source": [
    "The minimum value in a box plot is the lower whisker, which is defined as the lowest value that is within 1.5 times the interquartile range (IQR) from the lower quartile (Q1). The lower whisker represents the lowest values in the dataset that are not considered outliers.\n",
    "\n",
    "The maximum value in a box plot is the upper whisker, which is defined as the highest value that is within 1.5 times the IQR from the upper quartile (Q3). The upper whisker represents the highest values in the dataset that are not considered outliers.\n",
    "\n",
    "The IQR is the range between the first quartile (25th percentile) and the third quartile (75th percentile) of the data. Outliers are defined as values that fall below Q1 - 1.5 * IQR or above Q3 + 1.5 * IQR. In a box plot, outliers are represented by individual points outside the whiskers."
   ]
  },
  {
   "cell_type": "code",
   "execution_count": 45,
   "metadata": {},
   "outputs": [
    {
     "data": {
      "text/html": [
       "<div>\n",
       "<style scoped>\n",
       "    .dataframe tbody tr th:only-of-type {\n",
       "        vertical-align: middle;\n",
       "    }\n",
       "\n",
       "    .dataframe tbody tr th {\n",
       "        vertical-align: top;\n",
       "    }\n",
       "\n",
       "    .dataframe thead th {\n",
       "        text-align: right;\n",
       "    }\n",
       "</style>\n",
       "<table border=\"1\" class=\"dataframe\">\n",
       "  <thead>\n",
       "    <tr style=\"text-align: right;\">\n",
       "      <th></th>\n",
       "      <th>MPG_City</th>\n",
       "      <th>MPG Highway</th>\n",
       "      <th>Cylinders</th>\n",
       "      <th>Passengers</th>\n",
       "      <th>Price</th>\n",
       "    </tr>\n",
       "  </thead>\n",
       "  <tbody>\n",
       "    <tr>\n",
       "      <th>MPG_City</th>\n",
       "      <td>1.000000</td>\n",
       "      <td>0.943936</td>\n",
       "      <td>-0.684030</td>\n",
       "      <td>-0.416856</td>\n",
       "      <td>-0.594562</td>\n",
       "    </tr>\n",
       "    <tr>\n",
       "      <th>MPG Highway</th>\n",
       "      <td>0.943936</td>\n",
       "      <td>1.000000</td>\n",
       "      <td>-0.634325</td>\n",
       "      <td>-0.466386</td>\n",
       "      <td>-0.560680</td>\n",
       "    </tr>\n",
       "    <tr>\n",
       "      <th>Cylinders</th>\n",
       "      <td>-0.684030</td>\n",
       "      <td>-0.634325</td>\n",
       "      <td>1.000000</td>\n",
       "      <td>0.292330</td>\n",
       "      <td>0.654942</td>\n",
       "    </tr>\n",
       "    <tr>\n",
       "      <th>Passengers</th>\n",
       "      <td>-0.416856</td>\n",
       "      <td>-0.466386</td>\n",
       "      <td>0.292330</td>\n",
       "      <td>1.000000</td>\n",
       "      <td>0.057860</td>\n",
       "    </tr>\n",
       "    <tr>\n",
       "      <th>Price</th>\n",
       "      <td>-0.594562</td>\n",
       "      <td>-0.560680</td>\n",
       "      <td>0.654942</td>\n",
       "      <td>0.057860</td>\n",
       "      <td>1.000000</td>\n",
       "    </tr>\n",
       "  </tbody>\n",
       "</table>\n",
       "</div>"
      ],
      "text/plain": [
       "             MPG_City  MPG Highway  Cylinders  Passengers     Price\n",
       "MPG_City     1.000000     0.943936  -0.684030   -0.416856 -0.594562\n",
       "MPG Highway  0.943936     1.000000  -0.634325   -0.466386 -0.560680\n",
       "Cylinders   -0.684030    -0.634325   1.000000    0.292330  0.654942\n",
       "Passengers  -0.416856    -0.466386   0.292330    1.000000  0.057860\n",
       "Price       -0.594562    -0.560680   0.654942    0.057860  1.000000"
      ]
     },
     "execution_count": 45,
     "metadata": {},
     "output_type": "execute_result"
    }
   ],
   "source": [
    "# Plot the correlation Matrix\n",
    "df.corr()"
   ]
  },
  {
   "cell_type": "code",
   "execution_count": 50,
   "metadata": {},
   "outputs": [
    {
     "data": {
      "text/plain": [
       "<AxesSubplot:xlabel='Type', ylabel='Price'>"
      ]
     },
     "execution_count": 50,
     "metadata": {},
     "output_type": "execute_result"
    },
    {
     "data": {
      "image/png": "[encoded data removed]",
      "text/plain": [
       "<Figure size 432x288 with 1 Axes>"
      ]
     },
     "metadata": {
      "needs_background": "light"
     },
     "output_type": "display_data"
    }
   ],
   "source": [
    "# Plot a chart of 'Type' vs 'Price'\n",
    "df.plot.scatter(\"Type\", \"Price\")"
   ]
  },
  {
   "cell_type": "code",
   "execution_count": 51,
   "metadata": {},
   "outputs": [
    {
     "data": {
      "text/plain": [
       "<AxesSubplot:xlabel='Drive', ylabel='Price'>"
      ]
     },
     "execution_count": 51,
     "metadata": {},
     "output_type": "execute_result"
    },
    {
     "data": {
      "image/png": "[encoded data removed]",
      "text/plain": [
       "<Figure size 432x288 with 1 Axes>"
      ]
     },
     "metadata": {
      "needs_background": "light"
     },
     "output_type": "display_data"
    }
   ],
   "source": [
    "# Plot a chart of 'Drive' vs 'Price'\n",
    "df.plot.scatter(\"Drive\", \"Price\")"
   ]
  }
 ],
 "metadata": {
  "kernelspec": {
   "display_name": "Python 3 (ipykernel)",
   "language": "python",
   "name": "python3"
  },
  "language_info": {
   "codemirror_mode": {
    "name": "ipython",
    "version": 3
   },
   "file_extension": ".py",
   "mimetype": "text/x-python",
   "name": "python",
   "nbconvert_exporter": "python",
   "pygments_lexer": "ipython3",
   "version": "3.9.12"
  }
 },
 "nbformat": 4,
 "nbformat_minor": 2
}
